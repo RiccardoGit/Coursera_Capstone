{
 "cells": [
  {
   "cell_type": "markdown",
   "metadata": {},
   "source": [
    "<h4>Data reading and processing</h4>"
   ]
  },
  {
   "cell_type": "markdown",
   "metadata": {},
   "source": [
    "The first step is to import all the necessary packages"
   ]
  },
  {
   "cell_type": "code",
   "execution_count": 133,
   "metadata": {},
   "outputs": [],
   "source": [
    "import pandas as pd \n",
    "import requests\n",
    "import json\n",
    "from pandas.io.json import json_normalize "
   ]
  },
  {
   "cell_type": "markdown",
   "metadata": {},
   "source": [
    "Second Step is to download and read the csv file available at https://www.doogal.co.uk/UKPostcodesCSV.ashx?area=London."
   ]
  },
  {
   "cell_type": "code",
   "execution_count": 8,
   "metadata": {},
   "outputs": [],
   "source": [
    "df = pd.read_csv('/Users/riccardo/Downloads/london postcodes.csv')"
   ]
  },
  {
   "cell_type": "markdown",
   "metadata": {},
   "source": [
    "Let's display the first few lines"
   ]
  },
  {
   "cell_type": "code",
   "execution_count": 12,
   "metadata": {},
   "outputs": [
    {
     "data": {
      "text/html": [
       "<div>\n",
       "<style scoped>\n",
       "    .dataframe tbody tr th:only-of-type {\n",
       "        vertical-align: middle;\n",
       "    }\n",
       "\n",
       "    .dataframe tbody tr th {\n",
       "        vertical-align: top;\n",
       "    }\n",
       "\n",
       "    .dataframe thead th {\n",
       "        text-align: right;\n",
       "    }\n",
       "</style>\n",
       "<table border=\"1\" class=\"dataframe\">\n",
       "  <thead>\n",
       "    <tr style=\"text-align: right;\">\n",
       "      <th></th>\n",
       "      <th>Postcode</th>\n",
       "      <th>In Use?</th>\n",
       "      <th>Latitude</th>\n",
       "      <th>Longitude</th>\n",
       "      <th>Easting</th>\n",
       "      <th>Northing</th>\n",
       "      <th>Grid Ref</th>\n",
       "      <th>County</th>\n",
       "      <th>District</th>\n",
       "      <th>Ward</th>\n",
       "      <th>...</th>\n",
       "      <th>Quality</th>\n",
       "      <th>User Type</th>\n",
       "      <th>Last updated</th>\n",
       "      <th>Nearest station</th>\n",
       "      <th>Distance to station</th>\n",
       "      <th>Postcode area</th>\n",
       "      <th>Postcode district</th>\n",
       "      <th>Police force</th>\n",
       "      <th>Water company</th>\n",
       "      <th>Plus Code</th>\n",
       "    </tr>\n",
       "  </thead>\n",
       "  <tbody>\n",
       "    <tr>\n",
       "      <td>0</td>\n",
       "      <td>BR1 1AA</td>\n",
       "      <td>Yes</td>\n",
       "      <td>51.401546</td>\n",
       "      <td>0.015415</td>\n",
       "      <td>540291</td>\n",
       "      <td>168873</td>\n",
       "      <td>TQ402688</td>\n",
       "      <td>Greater London</td>\n",
       "      <td>Bromley</td>\n",
       "      <td>Bromley Town</td>\n",
       "      <td>...</td>\n",
       "      <td>1</td>\n",
       "      <td>0</td>\n",
       "      <td>2019-11-23</td>\n",
       "      <td>Bromley South</td>\n",
       "      <td>0.218257</td>\n",
       "      <td>BR</td>\n",
       "      <td>BR1</td>\n",
       "      <td>Metropolitan Police</td>\n",
       "      <td>Thames Water</td>\n",
       "      <td>9F32C228+J5</td>\n",
       "    </tr>\n",
       "    <tr>\n",
       "      <td>1</td>\n",
       "      <td>BR1 1AB</td>\n",
       "      <td>Yes</td>\n",
       "      <td>51.406333</td>\n",
       "      <td>0.015208</td>\n",
       "      <td>540262</td>\n",
       "      <td>169405</td>\n",
       "      <td>TQ402694</td>\n",
       "      <td>Greater London</td>\n",
       "      <td>Bromley</td>\n",
       "      <td>Bromley Town</td>\n",
       "      <td>...</td>\n",
       "      <td>1</td>\n",
       "      <td>0</td>\n",
       "      <td>2019-11-23</td>\n",
       "      <td>Bromley North</td>\n",
       "      <td>0.253666</td>\n",
       "      <td>BR</td>\n",
       "      <td>BR1</td>\n",
       "      <td>Metropolitan Police</td>\n",
       "      <td>Thames Water</td>\n",
       "      <td>9F32C248+G3</td>\n",
       "    </tr>\n",
       "    <tr>\n",
       "      <td>2</td>\n",
       "      <td>BR1 1AD</td>\n",
       "      <td>No</td>\n",
       "      <td>51.400057</td>\n",
       "      <td>0.016715</td>\n",
       "      <td>540386</td>\n",
       "      <td>168710</td>\n",
       "      <td>TQ403687</td>\n",
       "      <td>Greater London</td>\n",
       "      <td>Bromley</td>\n",
       "      <td>Bromley Town</td>\n",
       "      <td>...</td>\n",
       "      <td>1</td>\n",
       "      <td>1</td>\n",
       "      <td>2019-11-23</td>\n",
       "      <td>Bromley South</td>\n",
       "      <td>0.044559</td>\n",
       "      <td>BR</td>\n",
       "      <td>BR1</td>\n",
       "      <td>Metropolitan Police</td>\n",
       "      <td>NaN</td>\n",
       "      <td>9F32C228+2M</td>\n",
       "    </tr>\n",
       "    <tr>\n",
       "      <td>3</td>\n",
       "      <td>BR1 1AE</td>\n",
       "      <td>Yes</td>\n",
       "      <td>51.404543</td>\n",
       "      <td>0.014195</td>\n",
       "      <td>540197</td>\n",
       "      <td>169204</td>\n",
       "      <td>TQ401692</td>\n",
       "      <td>Greater London</td>\n",
       "      <td>Bromley</td>\n",
       "      <td>Bromley Town</td>\n",
       "      <td>...</td>\n",
       "      <td>1</td>\n",
       "      <td>0</td>\n",
       "      <td>2019-11-23</td>\n",
       "      <td>Bromley North</td>\n",
       "      <td>0.462939</td>\n",
       "      <td>BR</td>\n",
       "      <td>BR1</td>\n",
       "      <td>Metropolitan Police</td>\n",
       "      <td>Thames Water</td>\n",
       "      <td>9F32C237+RM</td>\n",
       "    </tr>\n",
       "    <tr>\n",
       "      <td>4</td>\n",
       "      <td>BR1 1AF</td>\n",
       "      <td>Yes</td>\n",
       "      <td>51.401392</td>\n",
       "      <td>0.014948</td>\n",
       "      <td>540259</td>\n",
       "      <td>168855</td>\n",
       "      <td>TQ402688</td>\n",
       "      <td>Greater London</td>\n",
       "      <td>Bromley</td>\n",
       "      <td>Bromley Town</td>\n",
       "      <td>...</td>\n",
       "      <td>1</td>\n",
       "      <td>0</td>\n",
       "      <td>2019-11-23</td>\n",
       "      <td>Bromley South</td>\n",
       "      <td>0.227664</td>\n",
       "      <td>BR</td>\n",
       "      <td>BR1</td>\n",
       "      <td>Metropolitan Police</td>\n",
       "      <td>Thames Water</td>\n",
       "      <td>9F32C227+HX</td>\n",
       "    </tr>\n",
       "  </tbody>\n",
       "</table>\n",
       "<p>5 rows × 46 columns</p>\n",
       "</div>"
      ],
      "text/plain": [
       "  Postcode In Use?   Latitude  Longitude  Easting  Northing  Grid Ref  \\\n",
       "0  BR1 1AA     Yes  51.401546   0.015415   540291    168873  TQ402688   \n",
       "1  BR1 1AB     Yes  51.406333   0.015208   540262    169405  TQ402694   \n",
       "2  BR1 1AD      No  51.400057   0.016715   540386    168710  TQ403687   \n",
       "3  BR1 1AE     Yes  51.404543   0.014195   540197    169204  TQ401692   \n",
       "4  BR1 1AF     Yes  51.401392   0.014948   540259    168855  TQ402688   \n",
       "\n",
       "           County District          Ward  ... Quality User Type Last updated  \\\n",
       "0  Greater London  Bromley  Bromley Town  ...       1         0   2019-11-23   \n",
       "1  Greater London  Bromley  Bromley Town  ...       1         0   2019-11-23   \n",
       "2  Greater London  Bromley  Bromley Town  ...       1         1   2019-11-23   \n",
       "3  Greater London  Bromley  Bromley Town  ...       1         0   2019-11-23   \n",
       "4  Greater London  Bromley  Bromley Town  ...       1         0   2019-11-23   \n",
       "\n",
       "  Nearest station Distance to station Postcode area Postcode district  \\\n",
       "0   Bromley South            0.218257            BR               BR1   \n",
       "1   Bromley North            0.253666            BR               BR1   \n",
       "2   Bromley South            0.044559            BR               BR1   \n",
       "3   Bromley North            0.462939            BR               BR1   \n",
       "4   Bromley South            0.227664            BR               BR1   \n",
       "\n",
       "          Police force  Water company    Plus Code  \n",
       "0  Metropolitan Police   Thames Water  9F32C228+J5  \n",
       "1  Metropolitan Police   Thames Water  9F32C248+G3  \n",
       "2  Metropolitan Police            NaN  9F32C228+2M  \n",
       "3  Metropolitan Police   Thames Water  9F32C237+RM  \n",
       "4  Metropolitan Police   Thames Water  9F32C227+HX  \n",
       "\n",
       "[5 rows x 46 columns]"
      ]
     },
     "execution_count": 12,
     "metadata": {},
     "output_type": "execute_result"
    }
   ],
   "source": [
    "df.head()"
   ]
  },
  {
   "cell_type": "markdown",
   "metadata": {},
   "source": [
    "As you can see there is a lot information in this dataset ranging from postcode to police department of compentence.\n",
    "\n",
    "We don't need all this information, therefore we need to clean the dataset and extract only the relevant records/columns. First of all let's remove all those records which refer to postcodes no longer in use"
   ]
  },
  {
   "cell_type": "code",
   "execution_count": 13,
   "metadata": {},
   "outputs": [],
   "source": [
    "df2 = df[df['In Use?']=='Yes']"
   ]
  },
  {
   "cell_type": "markdown",
   "metadata": {},
   "source": [
    "Then we noticed that the postcode is at a very low level, basically it refers to a building. this is too much for us. Let's group by 'District' and use the average latitute and longitute as a proxy for a general area in the district."
   ]
  },
  {
   "cell_type": "code",
   "execution_count": 27,
   "metadata": {},
   "outputs": [],
   "source": [
    "df3=df2.groupby('District').mean().reset_index()"
   ]
  },
  {
   "cell_type": "markdown",
   "metadata": {},
   "source": [
    "Finally let's extract only the three columns we are interested in: District, Latitute, Longitude. Let's also disply the dataset."
   ]
  },
  {
   "cell_type": "code",
   "execution_count": 135,
   "metadata": {},
   "outputs": [],
   "source": [
    "df4= df3[['District','Latitude','Longitude']]"
   ]
  },
  {
   "cell_type": "code",
   "execution_count": 136,
   "metadata": {},
   "outputs": [
    {
     "data": {
      "text/html": [
       "<div>\n",
       "<style scoped>\n",
       "    .dataframe tbody tr th:only-of-type {\n",
       "        vertical-align: middle;\n",
       "    }\n",
       "\n",
       "    .dataframe tbody tr th {\n",
       "        vertical-align: top;\n",
       "    }\n",
       "\n",
       "    .dataframe thead th {\n",
       "        text-align: right;\n",
       "    }\n",
       "</style>\n",
       "<table border=\"1\" class=\"dataframe\">\n",
       "  <thead>\n",
       "    <tr style=\"text-align: right;\">\n",
       "      <th></th>\n",
       "      <th>District</th>\n",
       "      <th>Latitude</th>\n",
       "      <th>Longitude</th>\n",
       "    </tr>\n",
       "  </thead>\n",
       "  <tbody>\n",
       "    <tr>\n",
       "      <td>0</td>\n",
       "      <td>Barking and Dagenham</td>\n",
       "      <td>51.546853</td>\n",
       "      <td>0.126620</td>\n",
       "    </tr>\n",
       "    <tr>\n",
       "      <td>1</td>\n",
       "      <td>Barnet</td>\n",
       "      <td>51.608680</td>\n",
       "      <td>-0.206189</td>\n",
       "    </tr>\n",
       "    <tr>\n",
       "      <td>2</td>\n",
       "      <td>Bexley</td>\n",
       "      <td>51.460000</td>\n",
       "      <td>0.135774</td>\n",
       "    </tr>\n",
       "    <tr>\n",
       "      <td>3</td>\n",
       "      <td>Brent</td>\n",
       "      <td>51.555335</td>\n",
       "      <td>-0.259383</td>\n",
       "    </tr>\n",
       "    <tr>\n",
       "      <td>4</td>\n",
       "      <td>Bromley</td>\n",
       "      <td>51.391456</td>\n",
       "      <td>0.030233</td>\n",
       "    </tr>\n",
       "    <tr>\n",
       "      <td>5</td>\n",
       "      <td>Camden</td>\n",
       "      <td>51.536437</td>\n",
       "      <td>-0.146050</td>\n",
       "    </tr>\n",
       "    <tr>\n",
       "      <td>6</td>\n",
       "      <td>City of London</td>\n",
       "      <td>51.514622</td>\n",
       "      <td>-0.092233</td>\n",
       "    </tr>\n",
       "    <tr>\n",
       "      <td>7</td>\n",
       "      <td>Croydon</td>\n",
       "      <td>51.368931</td>\n",
       "      <td>-0.090923</td>\n",
       "    </tr>\n",
       "    <tr>\n",
       "      <td>8</td>\n",
       "      <td>Ealing</td>\n",
       "      <td>51.518961</td>\n",
       "      <td>-0.324769</td>\n",
       "    </tr>\n",
       "    <tr>\n",
       "      <td>9</td>\n",
       "      <td>Enfield</td>\n",
       "      <td>51.641387</td>\n",
       "      <td>-0.080402</td>\n",
       "    </tr>\n",
       "    <tr>\n",
       "      <td>10</td>\n",
       "      <td>Greenwich</td>\n",
       "      <td>51.476101</td>\n",
       "      <td>0.051388</td>\n",
       "    </tr>\n",
       "    <tr>\n",
       "      <td>11</td>\n",
       "      <td>Hackney</td>\n",
       "      <td>51.549019</td>\n",
       "      <td>-0.069474</td>\n",
       "    </tr>\n",
       "    <tr>\n",
       "      <td>12</td>\n",
       "      <td>Hammersmith and Fulham</td>\n",
       "      <td>51.489928</td>\n",
       "      <td>-0.216163</td>\n",
       "    </tr>\n",
       "    <tr>\n",
       "      <td>13</td>\n",
       "      <td>Haringey</td>\n",
       "      <td>51.589852</td>\n",
       "      <td>-0.104382</td>\n",
       "    </tr>\n",
       "    <tr>\n",
       "      <td>14</td>\n",
       "      <td>Harrow</td>\n",
       "      <td>51.592607</td>\n",
       "      <td>-0.339058</td>\n",
       "    </tr>\n",
       "    <tr>\n",
       "      <td>15</td>\n",
       "      <td>Havering</td>\n",
       "      <td>51.572536</td>\n",
       "      <td>0.206116</td>\n",
       "    </tr>\n",
       "    <tr>\n",
       "      <td>16</td>\n",
       "      <td>Hillingdon</td>\n",
       "      <td>51.543947</td>\n",
       "      <td>-0.435998</td>\n",
       "    </tr>\n",
       "    <tr>\n",
       "      <td>17</td>\n",
       "      <td>Hounslow</td>\n",
       "      <td>51.470826</td>\n",
       "      <td>-0.350785</td>\n",
       "    </tr>\n",
       "    <tr>\n",
       "      <td>18</td>\n",
       "      <td>Islington</td>\n",
       "      <td>51.541628</td>\n",
       "      <td>-0.108305</td>\n",
       "    </tr>\n",
       "    <tr>\n",
       "      <td>19</td>\n",
       "      <td>Kensington and Chelsea</td>\n",
       "      <td>51.499356</td>\n",
       "      <td>-0.188641</td>\n",
       "    </tr>\n",
       "    <tr>\n",
       "      <td>20</td>\n",
       "      <td>Kingston upon Thames</td>\n",
       "      <td>51.397208</td>\n",
       "      <td>-0.287485</td>\n",
       "    </tr>\n",
       "    <tr>\n",
       "      <td>21</td>\n",
       "      <td>Lambeth</td>\n",
       "      <td>51.458163</td>\n",
       "      <td>-0.119608</td>\n",
       "    </tr>\n",
       "    <tr>\n",
       "      <td>22</td>\n",
       "      <td>Lewisham</td>\n",
       "      <td>51.451571</td>\n",
       "      <td>-0.023832</td>\n",
       "    </tr>\n",
       "    <tr>\n",
       "      <td>23</td>\n",
       "      <td>Merton</td>\n",
       "      <td>51.410649</td>\n",
       "      <td>-0.193444</td>\n",
       "    </tr>\n",
       "    <tr>\n",
       "      <td>24</td>\n",
       "      <td>Newham</td>\n",
       "      <td>51.530596</td>\n",
       "      <td>0.030377</td>\n",
       "    </tr>\n",
       "    <tr>\n",
       "      <td>25</td>\n",
       "      <td>Redbridge</td>\n",
       "      <td>51.581585</td>\n",
       "      <td>0.069760</td>\n",
       "    </tr>\n",
       "    <tr>\n",
       "      <td>26</td>\n",
       "      <td>Richmond upon Thames</td>\n",
       "      <td>51.448428</td>\n",
       "      <td>-0.317015</td>\n",
       "    </tr>\n",
       "    <tr>\n",
       "      <td>27</td>\n",
       "      <td>Southwark</td>\n",
       "      <td>51.483582</td>\n",
       "      <td>-0.077669</td>\n",
       "    </tr>\n",
       "    <tr>\n",
       "      <td>28</td>\n",
       "      <td>Sutton</td>\n",
       "      <td>51.365313</td>\n",
       "      <td>-0.182162</td>\n",
       "    </tr>\n",
       "    <tr>\n",
       "      <td>29</td>\n",
       "      <td>Tower Hamlets</td>\n",
       "      <td>51.516969</td>\n",
       "      <td>-0.039738</td>\n",
       "    </tr>\n",
       "    <tr>\n",
       "      <td>30</td>\n",
       "      <td>Waltham Forest</td>\n",
       "      <td>51.588992</td>\n",
       "      <td>-0.010338</td>\n",
       "    </tr>\n",
       "    <tr>\n",
       "      <td>31</td>\n",
       "      <td>Wandsworth</td>\n",
       "      <td>51.454581</td>\n",
       "      <td>-0.180089</td>\n",
       "    </tr>\n",
       "    <tr>\n",
       "      <td>32</td>\n",
       "      <td>Westminster</td>\n",
       "      <td>51.513424</td>\n",
       "      <td>-0.151603</td>\n",
       "    </tr>\n",
       "  </tbody>\n",
       "</table>\n",
       "</div>"
      ],
      "text/plain": [
       "                  District   Latitude  Longitude\n",
       "0     Barking and Dagenham  51.546853   0.126620\n",
       "1                   Barnet  51.608680  -0.206189\n",
       "2                   Bexley  51.460000   0.135774\n",
       "3                    Brent  51.555335  -0.259383\n",
       "4                  Bromley  51.391456   0.030233\n",
       "5                   Camden  51.536437  -0.146050\n",
       "6           City of London  51.514622  -0.092233\n",
       "7                  Croydon  51.368931  -0.090923\n",
       "8                   Ealing  51.518961  -0.324769\n",
       "9                  Enfield  51.641387  -0.080402\n",
       "10               Greenwich  51.476101   0.051388\n",
       "11                 Hackney  51.549019  -0.069474\n",
       "12  Hammersmith and Fulham  51.489928  -0.216163\n",
       "13                Haringey  51.589852  -0.104382\n",
       "14                  Harrow  51.592607  -0.339058\n",
       "15                Havering  51.572536   0.206116\n",
       "16              Hillingdon  51.543947  -0.435998\n",
       "17                Hounslow  51.470826  -0.350785\n",
       "18               Islington  51.541628  -0.108305\n",
       "19  Kensington and Chelsea  51.499356  -0.188641\n",
       "20    Kingston upon Thames  51.397208  -0.287485\n",
       "21                 Lambeth  51.458163  -0.119608\n",
       "22                Lewisham  51.451571  -0.023832\n",
       "23                  Merton  51.410649  -0.193444\n",
       "24                  Newham  51.530596   0.030377\n",
       "25               Redbridge  51.581585   0.069760\n",
       "26    Richmond upon Thames  51.448428  -0.317015\n",
       "27               Southwark  51.483582  -0.077669\n",
       "28                  Sutton  51.365313  -0.182162\n",
       "29           Tower Hamlets  51.516969  -0.039738\n",
       "30          Waltham Forest  51.588992  -0.010338\n",
       "31              Wandsworth  51.454581  -0.180089\n",
       "32             Westminster  51.513424  -0.151603"
      ]
     },
     "execution_count": 136,
     "metadata": {},
     "output_type": "execute_result"
    }
   ],
   "source": [
    "df4"
   ]
  },
  {
   "cell_type": "markdown",
   "metadata": {},
   "source": [
    "To check if the dataset if correctly structured let's extract one district coordinates ( Will pick Kensigton and Chelsea just because is one of my favourite)"
   ]
  },
  {
   "cell_type": "code",
   "execution_count": 101,
   "metadata": {},
   "outputs": [
    {
     "name": "stdout",
     "output_type": "stream",
     "text": [
      "Latitude and longitude values of Kensington and Chelsea are 51.483582027395656, -0.07766932743875905.\n"
     ]
    }
   ],
   "source": [
    "latitude = df4.loc[19, 'Latitude'] # neighborhood latitude value\n",
    "longitude = df4.loc[19, 'Longitude'] # neighborhood longitude value\n",
    "neighborhood_name = df4.loc[19, 'District'] # neighborhood name\n",
    "search_query ='coffee'\n",
    "print('Latitude and longitude values of {} are {}, {}.'.format(neighborhood_name, \n",
    "                                                               neighborhood_latitude, \n",
    "                                                               neighborhood_longitude))"
   ]
  },
  {
   "cell_type": "markdown",
   "metadata": {},
   "source": [
    "<h4> Connection to Foursquare </h4>"
   ]
  },
  {
   "cell_type": "markdown",
   "metadata": {},
   "source": [
    "Now it's time to set up the connection with the other dataset we need, Foursquare. To do this I need:\n",
    "\n",
    " - techincal details ( client id, secret and API version)\n",
    " - query details ( query string as if you were to type it in a browser, limit of results, search area mesure)"
   ]
  },
  {
   "cell_type": "code",
   "execution_count": 102,
   "metadata": {},
   "outputs": [
    {
     "name": "stdout",
     "output_type": "stream",
     "text": [
      "Your credentails:\n",
      "CLIENT_ID: 10P0RJRLTA05UIMMWSZH0GQ4NBMPIA1HL0ISZYWLGHVLT0LB\n",
      "CLIENT_SECRET:ZZ5F1IOT0WSTZUIWOR4OYC3IZEA12ZAEZC5C523BK1CCBWSR\n"
     ]
    }
   ],
   "source": [
    "CLIENT_ID = '10P0RJRLTA05UIMMWSZH0GQ4NBMPIA1HL0ISZYWLGHVLT0LB' # your Foursquare ID\n",
    "CLIENT_SECRET = 'ZZ5F1IOT0WSTZUIWOR4OYC3IZEA12ZAEZC5C523BK1CCBWSR' # your Foursquare Secret\n",
    "VERSION = '20180605' # Foursquare API version\n",
    "search_query ='coffee'\n",
    "LIMIT = 30\n",
    "radius = 500\n",
    "num_results = 100\n",
    "print('Your credentails:')\n",
    "print('CLIENT_ID: ' + CLIENT_ID)\n",
    "print('CLIENT_SECRET:' + CLIENT_SECRET)"
   ]
  },
  {
   "cell_type": "markdown",
   "metadata": {},
   "source": [
    "Using the above information we can set up the url to pass to Foursquare"
   ]
  },
  {
   "cell_type": "code",
   "execution_count": 103,
   "metadata": {},
   "outputs": [
    {
     "data": {
      "text/plain": [
       "'https://api.foursquare.com/v2/venues/search?client_id=10P0RJRLTA05UIMMWSZH0GQ4NBMPIA1HL0ISZYWLGHVLT0LB&client_secret=ZZ5F1IOT0WSTZUIWOR4OYC3IZEA12ZAEZC5C523BK1CCBWSR&ll=51.49935643452255,-0.18864078550057511&v=20180605&query=coffee&radius=500&limit=30'"
      ]
     },
     "execution_count": 103,
     "metadata": {},
     "output_type": "execute_result"
    }
   ],
   "source": [
    "url = 'https://api.foursquare.com/v2/venues/search?client_id={}&client_secret={}&ll={},{}&v={}&query={}&radius={}&limit={}'.format(CLIENT_ID, CLIENT_SECRET, latitude, longitude, VERSION, search_query, radius, LIMIT)\n",
    "url"
   ]
  },
  {
   "cell_type": "markdown",
   "metadata": {},
   "source": [
    "...and get the results of our query"
   ]
  },
  {
   "cell_type": "code",
   "execution_count": 104,
   "metadata": {},
   "outputs": [],
   "source": [
    "results = requests.get(url).json()"
   ]
  },
  {
   "cell_type": "markdown",
   "metadata": {},
   "source": [
    "<h4> Main code for the analysis </h4>"
   ]
  },
  {
   "cell_type": "markdown",
   "metadata": {},
   "source": [
    "Next step is the central step of the analysis. The following code loops through all districts, calls Forsquare with the average coordinates computed before, and extract both the number of coffee shop results and Starbucks coffee shop in each district.\n",
    "\n",
    "Few important remarks:\n",
    "\n",
    "- the query to Foursquare is set up as above\n",
    "- i inserted a try catch because i noticed for some district i didn't get answer at times\n",
    "- the json results need to be cleaned and restructured using json_normalize\n",
    "- the loop skips using a continue statment all those district that returns 0 results for the query 'coffee'\n",
    "- I am displying the results using simple print statements"
   ]
  },
  {
   "cell_type": "code",
   "execution_count": 132,
   "metadata": {},
   "outputs": [
    {
     "name": "stdout",
     "output_type": "stream",
     "text": [
      "Number of Starbucks registred on Forsquare in:\n",
      "\n",
      " Camden,  2 Starbucks out of 19 coffee shops.\n",
      " City of London,  2 Starbucks out of 30 coffee shops.\n",
      " Croydon,  0 Starbucks out of 1 coffee shops.\n",
      " Greenwich,  0 Starbucks out of 1 coffee shops.\n",
      " Hackney,  0 Starbucks out of 5 coffee shops.\n",
      " Hammersmith and Fulham,  0 Starbucks out of 5 coffee shops.\n",
      " Haringey,  0 Starbucks out of 3 coffee shops.\n",
      " Harrow,  0 Starbucks out of 3 coffee shops.\n",
      " Hounslow,  0 Starbucks out of 2 coffee shops.\n",
      " Islington,  1 Starbucks out of 8 coffee shops.\n",
      " Kensington and Chelsea,  4 Starbucks out of 8 coffee shops.\n",
      " Lambeth,  0 Starbucks out of 3 coffee shops.\n",
      " Lewisham,  0 Starbucks out of 1 coffee shops.\n",
      " Merton,  0 Starbucks out of 3 coffee shops.\n",
      " Newham,  0 Starbucks out of 2 coffee shops.\n",
      " Sutton,  0 Starbucks out of 1 coffee shops.\n",
      " Tower Hamlets,  0 Starbucks out of 1 coffee shops.\n",
      " Waltham Forest,  0 Starbucks out of 2 coffee shops.\n",
      " Westminster,  1 Starbucks out of 30 coffee shops.\n"
     ]
    }
   ],
   "source": [
    "CLIENT_ID = '10P0RJRLTA05UIMMWSZH0GQ4NBMPIA1HL0ISZYWLGHVLT0LB' # your Foursquare ID\n",
    "CLIENT_SECRET = 'ZZ5F1IOT0WSTZUIWOR4OYC3IZEA12ZAEZC5C523BK1CCBWSR' # your Foursquare Secret\n",
    "VERSION = '20180605' # Foursquare API version\n",
    "LIMIT = 30\n",
    "\n",
    "radius = 500\n",
    "num_results = 100\n",
    "search_query ='coffee'\n",
    "print('Number of Starbucks registred on Forsquare in:')\n",
    "print('')\n",
    "for i in df4.index:\n",
    "    latitude = df4.loc[i, 'Latitude'] # neighborhood latitude value\n",
    "    longitude = df4.loc[i, 'Longitude'] # neighborhood longitude value\n",
    "    neighborhood_name = df4.loc[i, 'District'] # neighborhood name\n",
    "    url = 'https://api.foursquare.com/v2/venues/search?client_id={}&client_secret={}&ll={},{}&v={}&query={}&radius={}&limit={}'.format(CLIENT_ID, CLIENT_SECRET, latitude, longitude, VERSION, search_query, radius, LIMIT)\n",
    "    try:\n",
    "         results = requests.get(url).json()\n",
    "    except Exception:\n",
    "        continue\n",
    "    results = requests.get(url).json()\n",
    "    venues = results['response']['venues']\n",
    "    dataframe = json_normalize(venues)\n",
    "    if len(dataframe)<1:\n",
    "        continue  \n",
    "    #print(df4.loc[i,'District'])\n",
    "    print(' {},  {} Starbucks out of {} coffee shops.'.format(df4.loc[i,'District'],len(dataframe[dataframe['name'].str.contains(\"Starbucks\")]),len(dataframe)))\n"
   ]
  },
  {
   "cell_type": "markdown",
   "metadata": {},
   "source": [
    "<h4> Conclusions </h4>"
   ]
  },
  {
   "cell_type": "markdown",
   "metadata": {},
   "source": [
    "I will be brief and list my conclusions in a series of bullet points:\n",
    "\n",
    "- The districts with the most coffee shops are the City of London and Westminster\n",
    "- The district with the highest number of Starbuck is Kensignton\n",
    "- The choice of which district is the best for a new independent coffee shop is hard because:\n",
    "    - Foursquare seems not to have that many results for London\n",
    "    - Not necesarily the number of Starbucks is a good indicator of the taste of the customers\n",
    "    - Out of 32 districts there are many without results which seem suspicious\n",
    "- All in all however we have some suggestions:\n",
    "    - A new indipendent coffee shop should avoid central london post codes ( city, wesminster)\n",
    "    - The best pick is a not to periferical area where the number of Starbucks is limited,but with a relative high number of coffee shops to indicate a potential client base\n",
    "    - My choice would therefore be Islington as it has all these characteristics"
   ]
  },
  {
   "cell_type": "code",
   "execution_count": null,
   "metadata": {},
   "outputs": [],
   "source": []
  }
 ],
 "metadata": {
  "kernelspec": {
   "display_name": "Python 3",
   "language": "python",
   "name": "python3"
  },
  "language_info": {
   "codemirror_mode": {
    "name": "ipython",
    "version": 3
   },
   "file_extension": ".py",
   "mimetype": "text/x-python",
   "name": "python",
   "nbconvert_exporter": "python",
   "pygments_lexer": "ipython3",
   "version": "3.6.4"
  }
 },
 "nbformat": 4,
 "nbformat_minor": 2
}
