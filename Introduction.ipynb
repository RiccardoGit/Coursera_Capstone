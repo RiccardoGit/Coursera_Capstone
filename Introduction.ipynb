{
 "cells": [
  {
   "cell_type": "markdown",
   "metadata": {},
   "source": [
    "<h4> Introduction to Capstone project assignment: </h4>\n",
    "\n"
   ]
  },
  {
   "cell_type": "markdown",
   "metadata": {},
   "source": [
    "As required by the first week assignment of the capstone project, here's my idea to leverage on the Foursquare APIs. The idea is simple and it orgininates from two simple facts 1) I live in London 2) I love coffee. \n",
    "\n",
    "What i intend to do is to find out which districts represent the best pick to open a new coffee shop in the city. I plan to proceed as follows:\n",
    "\n",
    " - Find a relevant dataset and integrate with Longitude Latitude values\n",
    " - Properly clean the dataset reducing it to a district, latitude, longitude dataframe\n",
    " - Establish a connection with forsquare to retrive search information about coffee shops\n",
    " - Analyse the results\n",
    "\n",
    "In particular for the last point i need to discover:\n",
    "\n",
    " - Which district have the most coffee shops?\n",
    " - Which disitrict are more for turists? ( I want to use the number of Starbucks as a proxy)\n",
    "\n",
    "Finally i would like to point out conclusions, limitation of my analysis and suggestion for further development.\n"
   ]
  },
  {
   "cell_type": "code",
   "execution_count": null,
   "metadata": {},
   "outputs": [],
   "source": []
  }
 ],
 "metadata": {
  "kernelspec": {
   "display_name": "Python 3",
   "language": "python",
   "name": "python3"
  },
  "language_info": {
   "codemirror_mode": {
    "name": "ipython",
    "version": 3
   },
   "file_extension": ".py",
   "mimetype": "text/x-python",
   "name": "python",
   "nbconvert_exporter": "python",
   "pygments_lexer": "ipython3",
   "version": "3.6.4"
  }
 },
 "nbformat": 4,
 "nbformat_minor": 2
}
